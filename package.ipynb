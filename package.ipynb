{
 "cells": [
  {
   "cell_type": "markdown",
   "id": "4517aca5",
   "metadata": {},
   "source": [
    "# Module 5: Modules and Packages Assignments\n",
    "## Lesson 5.1: Importing Modules"
   ]
  },
  {
   "cell_type": "markdown",
   "id": "2e8bb49a",
   "metadata": {},
   "source": [
    "### Assignment 1: Importing and Using Modules\n",
    "\n",
    "Import the `math` module and use it to calculate the square root of 25 and the sine of 90 degrees."
   ]
  },
  {
   "cell_type": "code",
   "execution_count": 1,
   "id": "03da62c8",
   "metadata": {},
   "outputs": [
    {
     "name": "stdout",
     "output_type": "stream",
     "text": [
      "5.0\n",
      "0.8939966636005579\n"
     ]
    }
   ],
   "source": [
    "import math as m\n",
    "print(m.sqrt(25))\n",
    "print(m.sin(90))"
   ]
  },
  {
   "cell_type": "markdown",
   "id": "c2b16a5f",
   "metadata": {},
   "source": [
    "### Assignment 2: Aliasing Modules\n",
    "\n",
    "Import the `datetime` module with an alias and use it to print the current date and time."
   ]
  },
  {
   "cell_type": "code",
   "execution_count": 2,
   "id": "59a90f74",
   "metadata": {},
   "outputs": [
    {
     "name": "stdout",
     "output_type": "stream",
     "text": [
      "2025-02-14 19:46:36.219569\n"
     ]
    }
   ],
   "source": [
    "import datetime as dt\n",
    "print(dt.datetime.now())"
   ]
  },
  {
   "cell_type": "markdown",
   "id": "59f31430",
   "metadata": {},
   "source": [
    "\n",
    "### Assignment 3: Importing Specific Functions\n",
    "\n",
    "Import the `randint` function from the `random` module and use it to generate a random integer between 1 and 100."
   ]
  },
  {
   "cell_type": "code",
   "execution_count": 3,
   "id": "cc88b90b",
   "metadata": {},
   "outputs": [
    {
     "name": "stdout",
     "output_type": "stream",
     "text": [
      "46\n"
     ]
    }
   ],
   "source": [
    "from random import randint\n",
    "print(randint(1, 100))"
   ]
  },
  {
   "cell_type": "markdown",
   "id": "92687c1e",
   "metadata": {},
   "source": [
    "### Assignment 4: Importing Multiple Functions\n",
    "\n",
    "Import the `sqrt` and `pow` functions from the `math` module and use them to calculate the square root of 16 and 2 raised to the power of 3."
   ]
  },
  {
   "cell_type": "code",
   "execution_count": 4,
   "id": "af9c38e9",
   "metadata": {},
   "outputs": [
    {
     "name": "stdout",
     "output_type": "stream",
     "text": [
      "5.0\n",
      "8.0\n"
     ]
    }
   ],
   "source": [
    "from math import sqrt , pow\n",
    "print(sqrt(25))\n",
    "print(pow(2, 3))"
   ]
  },
  {
   "cell_type": "markdown",
   "id": "b0d8234b",
   "metadata": {},
   "source": [
    "### Assignment 5: Handling Import Errors\n",
    "\n",
    "Write code that attempts to import a non-existent module and gracefully handles the import error by printing an error message."
   ]
  },
  {
   "cell_type": "code",
   "execution_count": 5,
   "id": "bf67f6eb",
   "metadata": {},
   "outputs": [
    {
     "name": "stdout",
     "output_type": "stream",
     "text": [
      "Module not found\n"
     ]
    }
   ],
   "source": [
    "try:\n",
    "    import noExistenceModule\n",
    "except ImportError:\n",
    "    print(\"Module not found\")"
   ]
  },
  {
   "cell_type": "markdown",
   "id": "2b462717",
   "metadata": {},
   "source": [
    "## Lesson 5.2: Standard Library Overview"
   ]
  },
  {
   "cell_type": "markdown",
   "id": "388069e3",
   "metadata": {},
   "source": [
    "### Assignment 6: Working with the `os` Module\n",
    "\n",
    "Use the `os` module to create a new directory, list the contents of the current directory, and remove the newly created directory."
   ]
  },
  {
   "cell_type": "code",
   "execution_count": 8,
   "id": "8e49f12f",
   "metadata": {},
   "outputs": [
    {
     "name": "stdout",
     "output_type": "stream",
     "text": [
      "['.git', '.idea', '.vscode', 'code explanation', 'detect_pangram.py', 'dictionary.ipynb', 'display_likes.py', 'env', 'functions.ipynb', 'getVowel.py', 'list.ipynb', 'newDir', 'output.txt', 'package.ipynb', 'packagesquestion.ipynb', 'py-basic.ipynb', 'README.md', 'sets.ipynb', 'ShortLongShort.py', 'tuple.ipynb']\n",
      "['.git', '.idea', '.vscode', 'code explanation', 'detect_pangram.py', 'dictionary.ipynb', 'display_likes.py', 'env', 'functions.ipynb', 'getVowel.py', 'list.ipynb', 'output.txt', 'package.ipynb', 'packagesquestion.ipynb', 'py-basic.ipynb', 'README.md', 'sets.ipynb', 'ShortLongShort.py', 'tuple.ipynb']\n"
     ]
    }
   ],
   "source": [
    "import os\n",
    "\n",
    "# creating a new direactory\n",
    "os.mkdir(\"newDir\")\n",
    "\n",
    "# list contents of current directory\n",
    "print(os.listdir(\".\"))\n",
    "\n",
    "# remove the newly created directory\n",
    "os.rmdir(\"newDir\")\n",
    "print(os.listdir(\".\"))"
   ]
  },
  {
   "cell_type": "markdown",
   "id": "655ad801",
   "metadata": {},
   "source": [
    "### Assignment 7: Working with the `sys` Module\n",
    "\n",
    "Use the `sys` module to print the Python version currently in use and the command-line arguments passed to the script."
   ]
  },
  {
   "cell_type": "code",
   "execution_count": 9,
   "id": "ba3e393e",
   "metadata": {},
   "outputs": [
    {
     "name": "stdout",
     "output_type": "stream",
     "text": [
      "Python version: 3.11.11 | packaged by Anaconda, Inc. | (main, Dec 11 2024, 16:34:19) [MSC v.1929 64 bit (AMD64)]\n",
      "Command-line arguments: ['c:\\\\Users\\\\SAHIL BARKE\\\\Desktop\\\\Git Projects\\\\python\\\\env\\\\Lib\\\\site-packages\\\\ipykernel_launcher.py', '--f=\"c:\\\\Users\\\\SAHIL BARKE\\\\AppData\\\\Roaming\\\\jupyter\\\\runtime\\\\kernel-v33b03f794419655786afb3c777bdc751407a69635.json\"']\n"
     ]
    }
   ],
   "source": [
    "import sys\n",
    "\n",
    "print(f\"Python version: {sys.version}\")\n",
    "print(f\"Command-line arguments: {sys.argv}\")"
   ]
  },
  {
   "cell_type": "markdown",
   "id": "e024d85d",
   "metadata": {},
   "source": [
    "### Assignment 8: Working with the `math` Module\n",
    "\n",
    "Use the `math` module to calculate the greatest common divisor (GCD) of two numbers and the factorial of a number."
   ]
  },
  {
   "cell_type": "code",
   "execution_count": 16,
   "id": "3536df4e",
   "metadata": {},
   "outputs": [
    {
     "name": "stdout",
     "output_type": "stream",
     "text": [
      "6\n",
      "720\n"
     ]
    }
   ],
   "source": [
    "import math as m\n",
    "print(m.gcd(\n",
    "    12, 30\n",
    "))\n",
    "print(m.factorial(6))"
   ]
  },
  {
   "cell_type": "markdown",
   "id": "e2622132",
   "metadata": {},
   "source": [
    "### Assignment 9: Working with the `datetime` Module\n",
    "\n",
    "Use the `datetime` module to print the current date, calculate the date 100 days from today, and determine the day of the week for a given date."
   ]
  },
  {
   "cell_type": "code",
   "execution_count": 20,
   "id": "b1475ee4",
   "metadata": {},
   "outputs": [
    {
     "name": "stdout",
     "output_type": "stream",
     "text": [
      "Today's date: 2025-02-14\n",
      "100 days from now: 2025-05-25 \n",
      "Day of the week for 2022-01-01: Saturday\n"
     ]
    }
   ],
   "source": [
    "import datetime \n",
    "\n",
    "# Current date\n",
    "today = datetime.date.today()\n",
    "print(f\"Today's date: {today}\")\n",
    "\n",
    "# 100 days from today\n",
    "future_date = today + datetime.timedelta(days=100)\n",
    "print(f\"100 days from now: {future_date} \")\n",
    "\n",
    "# Day of the week for a given date\n",
    "given_date = datetime.date(2022, 1, 1)\n",
    "print(f\"Day of the week for 2022-01-01: {given_date.strftime('%A')}\")"
   ]
  },
  {
   "cell_type": "markdown",
   "id": "09dbaaba",
   "metadata": {},
   "source": [
    "### Assignment 10: Working with the `random` Module\n",
    "\n",
    "Use the `random` module to generate a list of 5 random numbers between 1 and 50 and shuffle the elements of a list."
   ]
  },
  {
   "cell_type": "code",
   "execution_count": 24,
   "id": "51f5ab61",
   "metadata": {},
   "outputs": [
    {
     "name": "stdout",
     "output_type": "stream",
     "text": [
      "[45, 33, 24, 23, 32]\n",
      "[12, 15, 11, 13, 14]\n"
     ]
    }
   ],
   "source": [
    "import random\n",
    "random_numbers = [random.randint(1, 50) for i in range(5)]\n",
    "print(random_numbers)\n",
    "\n",
    "# shuffle_list\n",
    "lst = [11,12,13,14,15]\n",
    "random.shuffle(lst)\n",
    "print(lst)"
   ]
  },
  {
   "cell_type": "markdown",
   "id": "7ba5e634",
   "metadata": {},
   "source": [
    "## Lesson 5.3: Creating and Using Packages"
   ]
  },
  {
   "cell_type": "markdown",
   "id": "ff4c64fe",
   "metadata": {},
   "source": [
    "### Assignment 11: Creating a Simple Package\n",
    "\n",
    "Create a package named `mypackage` with two modules: `module1` and `module2`. `module1` should contain a function that adds two numbers, and `module2` should contain a function that multiplies two numbers. Write code to use these functions.\n"
   ]
  },
  {
   "cell_type": "code",
   "execution_count": null,
   "id": "4a12af94",
   "metadata": {},
   "outputs": [
    {
     "name": "stdout",
     "output_type": "stream",
     "text": [
      "14\n",
      "6\n"
     ]
    }
   ],
   "source": [
    "# created a package named mypkg \n",
    "\n",
    "import mypkg.module1 as m1\n",
    "import mypkg.subpackage.module2 as m2\n",
    "\n",
    "print(m1.addition(11,3))\n",
    "print(m2.multiplication(2, 3))"
   ]
  },
  {
   "cell_type": "markdown",
   "id": "128776f5",
   "metadata": {},
   "source": [
    "### Assignment 12: Using `__init__.py`\n",
    "\n",
    "Modify the `mypackage` package to include an `__init__.py` file that imports the functions from `module1` and `module2`. Write code to use these functions."
   ]
  },
  {
   "cell_type": "markdown",
   "id": "2d8484ff",
   "metadata": {},
   "source": [
    "### Assignment 13: Importing from a Package\n",
    "\n",
    "Write code to import and use the functions from `mypackage` without explicitly importing `module1` and `module2`."
   ]
  },
  {
   "cell_type": "code",
   "execution_count": null,
   "id": "3f985edd",
   "metadata": {},
   "outputs": [],
   "source": [
    "from mypkg import add, multiply\n",
    "\n",
    "print(add(2, 3))  # 5\n",
    "print(multiply(2, 3))  # 6"
   ]
  },
  {
   "cell_type": "markdown",
   "id": "b51eafe6",
   "metadata": {},
   "source": [
    "### Assignment 14: Relative Imports\n",
    "\n",
    "Create a subpackage named `subpackage` within `mypackage` and move `module2` into `subpackage`. Modify the import statements in `__init__.py` to use relative imports. Write code to use the functions from both modules."
   ]
  },
  {
   "cell_type": "code",
   "execution_count": 11,
   "id": "490f89aa",
   "metadata": {},
   "outputs": [
    {
     "name": "stdout",
     "output_type": "stream",
     "text": [
      "5\n",
      "6\n"
     ]
    }
   ],
   "source": [
    "from mypkg import addition, multiplication\n",
    "\n",
    "\n",
    "print(addition(2, 3))  # 5\n",
    "print(multiplication(2, 3))  # 6\n"
   ]
  },
  {
   "cell_type": "markdown",
   "id": "d23c52a1",
   "metadata": {},
   "source": [
    "### Assignment 15: Handling Package Import Errors\n",
    "\n",
    "Write code that attempts to import a non-existent function from `mypackage` and gracefully handles the import error by printing an error message."
   ]
  },
  {
   "cell_type": "code",
   "execution_count": 4,
   "id": "90f047c8",
   "metadata": {},
   "outputs": [
    {
     "name": "stdout",
     "output_type": "stream",
     "text": [
      "Module not found in mypkg\n"
     ]
    }
   ],
   "source": [
    "try:\n",
    "    from mypkg import division\n",
    "except ImportError:\n",
    "    print(\"Module not found in mypkg\")"
   ]
  }
 ],
 "metadata": {
  "kernelspec": {
   "display_name": "Python 3",
   "language": "python",
   "name": "python3"
  },
  "language_info": {
   "codemirror_mode": {
    "name": "ipython",
    "version": 3
   },
   "file_extension": ".py",
   "mimetype": "text/x-python",
   "name": "python",
   "nbconvert_exporter": "python",
   "pygments_lexer": "ipython3",
   "version": "3.11.11"
  }
 },
 "nbformat": 4,
 "nbformat_minor": 5
}
