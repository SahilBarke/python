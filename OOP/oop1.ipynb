{
 "cells": [
  {
   "cell_type": "markdown",
   "metadata": {},
   "source": [
    "# Module: Classes and Objects Assignments"
   ]
  },
  {
   "cell_type": "markdown",
   "metadata": {},
   "source": [
    "## Lesson: Creating and Working with Classes and Objects\n"
   ]
  },
  {
   "cell_type": "markdown",
   "metadata": {},
   "source": [
    "### Assignment 1: Basic Class and Object Creation\n",
    "\n",
    "Create a class named `Car` with attributes `make`, `model`, and `year`. Create an object of the class and print its attributes."
   ]
  },
  {
   "cell_type": "code",
   "execution_count": 4,
   "metadata": {},
   "outputs": [
    {
     "name": "stdout",
     "output_type": "stream",
     "text": [
      "Make: audi\n",
      "Model: a4\n",
      "Year: 2016\n"
     ]
    }
   ],
   "source": [
    "class Car:\n",
    "    def __init__(self,make,model,year):\n",
    "        self.make = make\n",
    "        self.model = model\n",
    "        self.year = year\n",
    "        \n",
    "# Creating an object of the Car class\n",
    "my_car = Car('audi','a4',2016)\n",
    "\n",
    "print(f\"Make: {my_car.make}\")\n",
    "print(f\"Model: {my_car.model}\")\n",
    "print(f\"Year: {my_car.year}\")\n"
   ]
  },
  {
   "cell_type": "markdown",
   "metadata": {},
   "source": [
    "### Assignment 2: Methods in Class\n",
    "\n",
    "Add a method named `start_engine` to the `Car` class that prints a message when the engine starts. Create an object of the class and call the method."
   ]
  },
  {
   "cell_type": "code",
   "execution_count": 6,
   "metadata": {},
   "outputs": [
    {
     "name": "stdout",
     "output_type": "stream",
     "text": [
      "Engine started\n"
     ]
    }
   ],
   "source": [
    "class Car2(Car):\n",
    "    def __init__(self,make,model,year):\n",
    "        super().__init__(make,model,year)\n",
    "    def start_engine(self):\n",
    "        print(\"Engine started\")\n",
    "        \n",
    "my_car2 = Car2('audi','a4',2016)\n",
    "my_car2.start_engine()"
   ]
  },
  {
   "cell_type": "markdown",
   "metadata": {},
   "source": [
    "### Assignment 3: Class with Constructor\n",
    "\n",
    "Create a class named `Student` with attributes `name` and `age`. Use a constructor to initialize these attributes. Create an object of the class and print its attributes."
   ]
  },
  {
   "cell_type": "code",
   "execution_count": 7,
   "metadata": {},
   "outputs": [
    {
     "name": "stdout",
     "output_type": "stream",
     "text": [
      "Name: John\n",
      "Age: 25\n"
     ]
    }
   ],
   "source": [
    "class Student:\n",
    "    def __init__(self,name,age):\n",
    "        self.name = name\n",
    "        self.age = age\n",
    "\n",
    "student1 = Student('John',25)\n",
    "\n",
    "print(f\"Name: {student1.name}\")\n",
    "print(f\"Age: {student1.age}\")\n"
   ]
  },
  {
   "cell_type": "markdown",
   "metadata": {},
   "source": [
    "### Assignment 4: Class with Private Attributes\n",
    "\n",
    "Create a class named `BankAccount` with private attributes `account_number` and `balance`. Add methods to deposit and withdraw money, and to check the balance. Create an object of the class and perform some operations."
   ]
  },
  {
   "cell_type": "code",
   "execution_count": null,
   "metadata": {},
   "outputs": [
    {
     "name": "stdout",
     "output_type": "stream",
     "text": [
      "Amount 500 deposited\n",
      "Amount 2000 withdrawn\n",
      "Balance: 3500\n",
      "Balance: 3500\n"
     ]
    }
   ],
   "source": [
    "class BankAccount:\n",
    "    def __init__(self,account_number,balance):\n",
    "        self.__account_number = account_number\n",
    "        self.__balance = balance\n",
    "    def deposit(self,amount):\n",
    "        self.__balance += amount\n",
    "        print(f\"Amount {amount} deposited\")\n",
    "    def withdraw(self,amount):\n",
    "        if amount > self.__balance:\n",
    "            print(\"Insufficient balance\")\n",
    "        else:\n",
    "            self.__balance -= amount\n",
    "            print(f\"Amount {amount} withdrawn\")\n",
    "    def get_balance(self):\n",
    "        return self.__balance\n",
    "\n",
    "account1 = BankAccount(12345,5000)\n",
    "account1.deposit(500)\n",
    "account1.withdraw(2000)\n",
    "print(f\"Balance: {account1.get_balance()}\")\n"
   ]
  },
  {
   "cell_type": "markdown",
   "metadata": {},
   "source": [
    "### Assignment 5: Class Inheritance\n",
    "\n",
    "Create a base class named `Person` with attributes `name` and `age`. Create a derived class named `Employee` that inherits from `Person` and adds an attribute `employee_id`. Create an object of the derived class and print its attributes."
   ]
  },
  {
   "cell_type": "code",
   "execution_count": 18,
   "metadata": {},
   "outputs": [
    {
     "name": "stdout",
     "output_type": "stream",
     "text": [
      "Name: John\n",
      "Age: 25\n",
      "Employee ID: 1001\n"
     ]
    }
   ],
   "source": [
    "class Person:\n",
    "    def __init__(self,name,age):\n",
    "        self.name = name\n",
    "        self.age = age\n",
    "        \n",
    "class Employee(Person):\n",
    "    def __init__(self,name,age,emp_id):\n",
    "        super().__init__(name,age)\n",
    "        self.emp_id = emp_id\n",
    "    \n",
    "employee1 = Employee('John',25,1001)    \n",
    "print(f\"Name: {employee1.name}\")\n",
    "print(f\"Age: {employee1.age}\")\n",
    "print(f\"Employee ID: {employee1.emp_id}\")\n",
    "\n",
    "\n",
    "### priniting all the attributes of the object employee1 with loop and __dict__ method\n",
    "# for objects in employee1.__dict__:\n",
    "#     print(f\"{objects} : {employee1.__dict__[objects]}\")\n",
    "# print(employee1.__dict__)"
   ]
  },
  {
   "cell_type": "markdown",
   "metadata": {},
   "source": [
    "### Assignment 6: Method Overriding\n",
    "\n",
    "In the `Employee` class, override the `__str__` method to return a string representation of the object. Create an object of the class and print it."
   ]
  },
  {
   "cell_type": "code",
   "execution_count": 20,
   "metadata": {},
   "outputs": [
    {
     "name": "stdout",
     "output_type": "stream",
     "text": [
      "Name: John, Age: 25, Employee ID: 1001\n"
     ]
    }
   ],
   "source": [
    "class Employee(Person):\n",
    "    def __init__(self,name,age,emp_id):\n",
    "        super().__init__(name,age)\n",
    "        self.emp_id = emp_id\n",
    "    def __str__(self):\n",
    "        return f\"Name: {self.name}, Age: {self.age}, Employee ID: {self.emp_id}\"\n",
    "    \n",
    "employee1 = Employee('John',25,1001)    \n",
    "print(employee1)"
   ]
  },
  {
   "cell_type": "markdown",
   "metadata": {},
   "source": [
    "### Assignment 8: Class with Class Variables\n",
    "\n",
    "Create a class named `Counter` with a class variable `count`. Each time an object is created, increment the count. Add a method to get the current count. Create multiple objects and print the count."
   ]
  },
  {
   "cell_type": "code",
   "execution_count": 21,
   "metadata": {},
   "outputs": [
    {
     "name": "stdout",
     "output_type": "stream",
     "text": [
      "3\n"
     ]
    }
   ],
   "source": [
    "class Counter:\n",
    "    count = 0\n",
    "    def __init__(self):\n",
    "        Counter.count += 1\n",
    "    @staticmethod\n",
    "    def total_objects():\n",
    "        return Counter.count\n",
    "\n",
    "counter1 = Counter()\n",
    "counter2 = Counter()\n",
    "counter3 = Counter()\n",
    "print(Counter.total_objects())"
   ]
  },
  {
   "cell_type": "markdown",
   "metadata": {},
   "source": [
    "### Assignment 9: Static Methods\n",
    "\n",
    "Create a class named `MathOperations` with a static method to calculate the square root of a number. Call the static method without creating an object."
   ]
  },
  {
   "cell_type": "code",
   "execution_count": 24,
   "metadata": {},
   "outputs": [
    {
     "name": "stdout",
     "output_type": "stream",
     "text": [
      "5.0\n"
     ]
    }
   ],
   "source": [
    "class MathOperations:\n",
    "    @staticmethod\n",
    "    def squareRoot(number):\n",
    "        return number ** 0.5\n",
    "\n",
    "print(MathOperations.squareRoot(25))"
   ]
  },
  {
   "cell_type": "markdown",
   "metadata": {},
   "source": [
    "### Assignment 10: Class with Properties\n",
    "\n",
    "Create a class named `Rectangle` with private attributes `length` and `width`. Use properties to get and set these attributes. Create an object of the class and test the properties."
   ]
  },
  {
   "cell_type": "code",
   "execution_count": 25,
   "metadata": {},
   "outputs": [
    {
     "name": "stdout",
     "output_type": "stream",
     "text": [
      "Length: 10\n",
      "Width: 5\n",
      "Area: 50\n",
      "Updated Length: 20\n",
      "Updated Width: 10\n",
      "Updated Area: 200\n"
     ]
    }
   ],
   "source": [
    "class Rectangle:\n",
    "    def __init__(self, length, width):\n",
    "        self.__length = length  # Private attribute\n",
    "        self.__width = width    # Private attribute\n",
    "\n",
    "    # Getter for length\n",
    "    @property\n",
    "    def length(self):\n",
    "        return self.__length\n",
    "\n",
    "    # Setter for length\n",
    "    @length.setter\n",
    "    def length(self, value):\n",
    "        if value > 0:\n",
    "            self.__length = value\n",
    "        else:\n",
    "            raise ValueError(\"Length must be positive\")\n",
    "\n",
    "    # Getter for width\n",
    "    @property\n",
    "    def width(self):\n",
    "        return self.__width\n",
    "\n",
    "    # Setter for width\n",
    "    @width.setter\n",
    "    def width(self, value):\n",
    "        if value > 0:\n",
    "            self.__width = value\n",
    "        else:\n",
    "            raise ValueError(\"Width must be positive\")\n",
    "\n",
    "    # Method to calculate area\n",
    "    def area(self):\n",
    "        return self.__length * self.__width\n",
    "\n",
    "\n",
    "# Testing the class\n",
    "rect = Rectangle(10, 5)\n",
    "\n",
    "# Accessing properties\n",
    "print(\"Length:\", rect.length)  # ✅ Output: 10\n",
    "print(\"Width:\", rect.width)    # ✅ Output: 5\n",
    "print(\"Area:\", rect.area())    # ✅ Output: 50\n",
    "\n",
    "# Modifying attributes using setters\n",
    "rect.length = 20\n",
    "rect.width = 10\n",
    "print(\"Updated Length:\", rect.length)  # ✅ Output: 20\n",
    "print(\"Updated Width:\", rect.width)    # ✅ Output: 10\n",
    "print(\"Updated Area:\", rect.area())    # ✅ Output: 200\n",
    "\n",
    "# Trying to set negative value (Raises Error)\n",
    "# rect.length = -5  ❌ Raises: ValueError: Length must be positive\n"
   ]
  },
  {
   "cell_type": "markdown",
   "metadata": {},
   "source": [
    "### Assignment 11: Abstract Base Class\n",
    "\n",
    "Create an abstract base class named `Shape` with an abstract method `area`. Create derived classes `Circle` and `Square` that implement the `area` method. Create objects of the derived classes and call the `area` method."
   ]
  },
  {
   "cell_type": "code",
   "execution_count": 28,
   "metadata": {},
   "outputs": [],
   "source": [
    "from abc import ABC, abstractmethod\n",
    "\n",
    "class Shape(ABC):\n",
    "    @abstractmethod\n",
    "    def area(self):\n",
    "        pass\n",
    "\n",
    "class Circle(Shape):\n",
    "    def __init__(self, radius):\n",
    "        self.__radius = radius\n",
    "    def area(self):\n",
    "            return 3.14 * self.__radius * self.__radius\n",
    "\n",
    "class Square(Shape):\n",
    "    def __init__(self, side):\n",
    "        self.__side = side\n",
    "    def area(self):\n",
    "        return self.__side * self.__side\n",
    "\n",
    "# Creating objects of Circle and Rectangle\n",
    "circle = Circle(7)\n",
    "square = Square(10)"
   ]
  },
  {
   "cell_type": "markdown",
   "metadata": {},
   "source": [
    "### Assignment 12: Operator Overloading\n",
    "\n",
    "Create a class named `Vector` with attributes `x` and `y`. Overload the `+` operator to add two `Vector` objects. Create objects of the class and test the operator overloading."
   ]
  },
  {
   "cell_type": "code",
   "execution_count": null,
   "metadata": {},
   "outputs": [
    {
     "name": "stdout",
     "output_type": "stream",
     "text": [
      "Vector(4, 6)\n"
     ]
    }
   ],
   "source": [
    "class Vector:\n",
    "    def __init__(self, x, y):\n",
    "        self.x = x\n",
    "        self.y = y\n",
    "        \n",
    "    \n",
    "    def __add__(self, other):\n",
    "        if isinstance(other, Vector):\n",
    "            return Vector(self.x + other.x, self.y + other.y)\n",
    "        raise TypeError(\"Operand must be an instance of Vector\")\n",
    "    \n",
    "    def __str__(self):\n",
    "        return f\"Vector({self.x}, {self.y})\"\n",
    "\n",
    "# Creating Vector objects\n",
    "v1 = Vector(3, 4)\n",
    "v2 = Vector(1, 2)\n",
    "\n",
    "# Testing operator overloading\n",
    "result = v1 + v2\n",
    "print(result)  # Output: Vector(4, 6)"
   ]
  },
  {
   "cell_type": "markdown",
   "metadata": {},
   "source": [
    "### Assignment 13: Class with Custom Exception\n",
    "\n",
    "Create a custom exception named `InsufficientBalanceError`. In the `BankAccount` class, raise this exception when a withdrawal amount is greater than the balance. Handle the exception and print an appropriate message."
   ]
  },
  {
   "cell_type": "code",
   "execution_count": null,
   "metadata": {},
   "outputs": [
    {
     "name": "stdout",
     "output_type": "stream",
     "text": [
      "Amount 500 deposited\n",
      "Amount 2000 withdrawn\n",
      "Balance: 3500\n",
      "Insufficient balance: 3500\n"
     ]
    }
   ],
   "source": [
    "class InsufficientBalanceError(Exception):\n",
    "    def __init__(self, value):\n",
    "        self.value = value\n",
    "    def __str__(self):\n",
    "        return f\"Insufficient balance: {self.value}\"\n",
    "    \n",
    "class BankAccount:\n",
    "    def __init__(self,account_number,balance):\n",
    "        self.__account_number = account_number\n",
    "        self.__balance = balance\n",
    "    def deposit(self,amount):\n",
    "        self.__balance += amount\n",
    "        print(f\"Amount {amount} deposited\")\n",
    "    def withdraw(self,amount):\n",
    "            # if amount > self.__balance:\n",
    "            #     raise InsufficientBalanceError(self.__balance)\n",
    "            # else:\n",
    "            #     self.__balance -= amount\n",
    "            #     print(f\"Amount {amount} withdrawn\")\n",
    "                \n",
    "            try: \n",
    "                if amount <= self.__balance:\n",
    "                    self.__balance -= amount\n",
    "                    print(f\"Amount {amount} withdrawn\")\n",
    "                else:\n",
    "                    raise InsufficientBalanceError(self.__balance)\n",
    "            except InsufficientBalanceError as ibe:\n",
    "                print(ibe)\n",
    "    def get_balance(self):\n",
    "        return self.__balance\n",
    "\n",
    "account1 = BankAccount(12345,5000)\n",
    "account1.deposit(500)\n",
    "account1.withdraw(2000)\n",
    "print(f\"Balance: {account1.get_balance()}\")\n",
    "account1.withdraw(20000)"
   ]
  },
  {
   "cell_type": "markdown",
   "metadata": {},
   "source": [
    "### Assignment 14: Class with Context Manager\n",
    "\n",
    "Create a class named `FileManager` that implements the context manager protocol to open and close a file. Use this class to read the contents of a file."
   ]
  },
  {
   "cell_type": "code",
   "execution_count": 7,
   "metadata": {},
   "outputs": [
    {
     "name": "stdout",
     "output_type": "stream",
     "text": [
      "File Contents: Hello, this is a test file.\n"
     ]
    }
   ],
   "source": [
    "class FileManager:\n",
    "    def __init__(self, filename, mode):\n",
    "        \"\"\"Initialize with filename and mode.\"\"\"\n",
    "        self.filename = filename\n",
    "        self.mode = mode\n",
    "        self.file = None  # Placeholder for file object\n",
    "\n",
    "    def __enter__(self):\n",
    "        \"\"\"Open the file when entering the context.\"\"\"\n",
    "        self.file = open(self.filename, self.mode)\n",
    "        return self.file  # Return file object for use in `with` block\n",
    "\n",
    "    def __exit__(self, exc_type, exc_value, traceback):\n",
    "        \"\"\"Close the file when exiting the context, ensuring cleanup.\"\"\"\n",
    "        if self.file:\n",
    "            self.file.close()\n",
    "        if exc_type is not None:\n",
    "            print(f\"An error occurred: {exc_value}\")  # Handle any exceptions gracefully\n",
    "        return True  # Prevents exception propagation\n",
    "\n",
    "# Using the custom FileManager class to read a file\n",
    "filename = \"example.txt\"\n",
    "\n",
    "# Creating a sample file for testing\n",
    "with open(filename, \"w\") as f:\n",
    "    f.write(\"Hello, this is a test file.\")\n",
    "\n",
    "# Reading the file using FileManager\n",
    "with FileManager(filename, \"r\") as f:\n",
    "    content = f.read()\n",
    "    print(\"File Contents:\", content)  # Display the file contents\n"
   ]
  },
  {
   "cell_type": "markdown",
   "metadata": {},
   "source": [
    "### Assignment 15: Chaining Methods\n",
    "\n",
    "Create a class named `Calculator` with methods to add, subtract, multiply, and divide. Each method should return the object itself to allow method chaining. Create an object and chain multiple method calls."
   ]
  },
  {
   "cell_type": "code",
   "execution_count": null,
   "metadata": {},
   "outputs": [
    {
     "name": "stdout",
     "output_type": "stream",
     "text": [
      "Result: 6.0\n"
     ]
    }
   ],
   "source": [
    "class Calculator:\n",
    "    def __init__(self, value=0):\n",
    "        self.value = value\n",
    "        \n",
    "    def add(self, value):\n",
    "        self.value += value\n",
    "        return self\n",
    "    \n",
    "    def subtract(self, value):\n",
    "        self.value -= value\n",
    "        return self\n",
    "\n",
    "    def multiply(self, value):\n",
    "        self.value *= value\n",
    "        return self\n",
    "\n",
    "    def divide(self, value):\n",
    "        if value == 0:\n",
    "            print(\"Error: Division by zero is not allowed.\")\n",
    "        else:\n",
    "            self.value /= value\n",
    "        return self\n",
    "    \n",
    "    def result(self):\n",
    "        print(f\"Result: {self.value}\")  # No return statement\n",
    "\n",
    "# Creating an object of the Calculator class\n",
    "calc = Calculator(10)\n",
    "calc.add(5).subtract(3).multiply(2).divide(4).result()  # Output: Result: 6.0\n"
   ]
  }
 ],
 "metadata": {
  "kernelspec": {
   "display_name": "Python 3",
   "language": "python",
   "name": "python3"
  },
  "language_info": {
   "codemirror_mode": {
    "name": "ipython",
    "version": 3
   },
   "file_extension": ".py",
   "mimetype": "text/x-python",
   "name": "python",
   "nbconvert_exporter": "python",
   "pygments_lexer": "ipython3",
   "version": "3.11.11"
  }
 },
 "nbformat": 4,
 "nbformat_minor": 2
}
