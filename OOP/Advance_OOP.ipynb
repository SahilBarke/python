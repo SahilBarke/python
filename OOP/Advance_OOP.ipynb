{
 "cells": [
  {
   "cell_type": "markdown",
   "metadata": {},
   "source": [
    "# Module: OOP Assignments\n",
    "## Lesson: Polymorphism, Abstraction, and Encapsulation"
   ]
  },
  {
   "cell_type": "markdown",
   "metadata": {},
   "source": [
    "### Assignment 1: Polymorphism with Methods\n",
    "\n",
    "Create a base class named `Shape` with a method `area`. Create two derived classes `Circle` and `Square` that override the `area` method. Create a list of `Shape` objects and call the `area` method on each object to demonstrate polymorphism."
   ]
  },
  {
   "cell_type": "code",
   "execution_count": null,
   "metadata": {},
   "outputs": [
    {
     "name": "stdout",
     "output_type": "stream",
     "text": [
      "The area of the Circle is: 78.54\n",
      "The area of the Square is: 16.00\n",
      "The area of the Circle is: 28.27\n",
      "The area of the Square is: 4.00\n"
     ]
    }
   ],
   "source": [
    "import math\n",
    "\n",
    "\n",
    "# Base class\n",
    "class Shape:\n",
    "    def area(self):\n",
    "        raise NotImplementedError(\"Subclasses must override the area method\")\n",
    "\n",
    "\n",
    "# Derived class: Circle\n",
    "class Circle(Shape):\n",
    "    def __init__(self, radius):\n",
    "        self.radius = radius\n",
    "\n",
    "    def area(self):\n",
    "        return math.pi * self.radius**2\n",
    "\n",
    "\n",
    "# Derived class: Square\n",
    "class Square(Shape):\n",
    "    def __init__(self, side):\n",
    "        self.side = side\n",
    "\n",
    "    def area(self):\n",
    "        return self.side**2\n",
    "\n",
    "\n",
    "# Create a list of Shape objects\n",
    "shapes = [\n",
    "    Circle(5),  # Circle with radius 5\n",
    "    Square(4),  # Square with side length 4\n",
    "    Circle(3),  # Circle with radius 3\n",
    "    Square(2),  # Square with side length 2\n",
    "]\n",
    "\n",
    "# Call the area method on each object\n",
    "for shape in shapes:\n",
    "    print(f\"The area of the {shape.__class__.__name__} is: {shape.area():.2f}\")"
   ]
  },
  {
   "cell_type": "markdown",
   "metadata": {},
   "source": [
    "### Assignment 2: Polymorphism with Function Arguments\n",
    "\n",
    "Create a function named `describe_shape` that takes a `Shape` object as an argument and calls its `area` method. Create objects of `Circle` and `Square` classes and pass them to the `describe_shape` function."
   ]
  },
  {
   "cell_type": "code",
   "execution_count": null,
   "metadata": {},
   "outputs": [
    {
     "name": "stdout",
     "output_type": "stream",
     "text": [
      "The area of the Circle is: 78.54\n",
      "The area of the Square is: 16.00\n"
     ]
    }
   ],
   "source": [
    "import math\n",
    "\n",
    "# Base class\n",
    "class Shape:\n",
    "    def area(self):\n",
    "        raise NotImplementedError(\"Subclasses must override the area method\")\n",
    "\n",
    "\n",
    "\n",
    "# Derived class: Circle\n",
    "class Circle(Shape):\n",
    "    def __init__(self, radius):\n",
    "        self.radius = radius\n",
    "    def area(self):\n",
    "        return math.pi * self.radius**2\n",
    "\n",
    "\n",
    "\n",
    "# Derived class: Square\n",
    "class Square(Shape):\n",
    "    def __init__(self, side):\n",
    "        self.side = side\n",
    "    def area(self):\n",
    "        return self.side**2\n",
    "\n",
    "\n",
    "\n",
    "def describe_shape(shape):\n",
    "    if not isinstance(shape, Shape):\n",
    "        raise ValueError(\"Argument must be an instance of Shape or its subclasses\")\n",
    "    print(f\"The area of the {shape.__class__.__name__} is: {shape.area():.2f}\")\n",
    "\n",
    "\n",
    "circle = Circle(5)\n",
    "square = Square(4)\n",
    "describe_shape(circle)\n",
    "describe_shape(square)"
   ]
  },
  {
   "cell_type": "markdown",
   "metadata": {},
   "source": [
    "\n",
    "### Assignment 3: Abstract Base Class with Abstract Methods\n",
    "\n",
    "Create an abstract base class named `Vehicle` with an abstract method `start_engine`. Create derived classes `Car` and `Bike` that implement the `start_engine` method. Create objects of the derived classes and call the `start_engine` method.\n",
    "\n",
    "### Assignment 4: Abstract Base Class with Concrete Methods\n",
    "\n",
    "In the `Vehicle` class, add a concrete method `fuel_type` that returns a generic fuel type. Override this method in `Car` and `Bike` classes to return specific fuel types. Create objects of the derived classes and call the `fuel_type` method."
   ]
  },
  {
   "cell_type": "code",
   "execution_count": null,
   "metadata": {},
   "outputs": [
    {
     "name": "stdout",
     "output_type": "stream",
     "text": [
      "Car engine started\n",
      "The fuel type is diesel\n",
      "Bike engine started\n",
      "The fuel type is petrol\n"
     ]
    }
   ],
   "source": [
    "from abc import ABC, abstractmethod\n",
    "\n",
    "\n",
    "# Base class\n",
    "class Vehicle(ABC):  # Fixed the typo here\n",
    "    @abstractmethod\n",
    "    def start_engine(self):\n",
    "        pass\n",
    "\n",
    "    # Assignment 4 implementation\n",
    "    def fuel_type(self):\n",
    "        return \"The fuel type is generic\"\n",
    "\n",
    "\n",
    "class Car(Vehicle):  # Updated here as well\n",
    "    def start_engine(self):\n",
    "        print(\"Car engine started\")\n",
    "\n",
    "    def fuel_type(self):\n",
    "        return \"The fuel type is diesel\"\n",
    "\n",
    "\n",
    "class Bike(Vehicle):  # Updated here as well\n",
    "    def start_engine(self):\n",
    "        print(\"Bike engine started\")\n",
    "\n",
    "    def fuel_type(self):\n",
    "        return \"The fuel type is petrol\"\n",
    "\n",
    "\n",
    "# Create objects of the derived classes\n",
    "car = Car()\n",
    "bike = Bike()\n",
    "\n",
    "# Call the start_engine method\n",
    "car.start_engine()\n",
    "print(car.fuel_type())  # Print method added to see output\n",
    "bike.start_engine()\n",
    "print(bike.fuel_type())  # Print method added to see output"
   ]
  },
  {
   "cell_type": "markdown",
   "metadata": {},
   "source": [
    "### Assignment 5: Encapsulation with Private Attributes\n",
    "\n",
    "Create a class named `BankAccount` with private attributes `account_number` and `balance`. Add methods to deposit and withdraw money, and to check the balance. Ensure that the balance cannot be accessed directly.\n",
    "\n",
    "### Assignment 6: Encapsulation with Property Decorators\n",
    "\n",
    "In the `BankAccount` class, use property decorators to get and set the `balance` attribute. Ensure that the balance cannot be set to a negative value."
   ]
  },
  {
   "cell_type": "code",
   "execution_count": null,
   "metadata": {},
   "outputs": [
    {
     "name": "stdout",
     "output_type": "stream",
     "text": [
      "Account balance: 1500\n"
     ]
    }
   ],
   "source": [
    "class BankAccont:\n",
    "    def __init__(self, account_number, balance=0):\n",
    "        self.__account_number = account_number\n",
    "        self.__balance = balance\n",
    "\n",
    "    @property\n",
    "    def balance(self):\n",
    "        return self.__balance\n",
    "\n",
    "    @balance.setter\n",
    "    def balance(self, value):\n",
    "        if value < 0:\n",
    "            raise ValueError(\"Balance cannot be negative\")\n",
    "        self.__balance = value\n",
    "\n",
    "    def deposit(self, amount):\n",
    "        self.__balance += amount\n",
    "\n",
    "    def withdraw(self, amount):\n",
    "        if amount > self.__balance:\n",
    "            raise ValueError(\"Insufficient funds\")\n",
    "        self.__balance -= amount\n",
    "\n",
    "    def check_balance(self):\n",
    "        print(f\"Account balance: {self.__balance}\")\n",
    "\n",
    "\n",
    "account = BankAccont(12345)\n",
    "account.balance = 2000\n",
    "account.deposit(500)\n",
    "account.withdraw(1000)\n",
    "account.check_balance()"
   ]
  },
  {
   "cell_type": "markdown",
   "metadata": {},
   "source": [
    "### Assignment 7: Combining Encapsulation and Inheritance\n",
    "\n",
    "Create a base class named `Person` with private attributes `name` and `age`. Add methods to get and set these attributes. Create a derived class named `Student` that adds an attribute `student_id`. Create an object of the `Student` class and test the encapsulation."
   ]
  },
  {
   "cell_type": "code",
   "execution_count": null,
   "metadata": {},
   "outputs": [
    {
     "name": "stdout",
     "output_type": "stream",
     "text": [
      "John\n",
      "20\n"
     ]
    }
   ],
   "source": [
    "class Person:\n",
    "    def __init__(self, name, age):\n",
    "        self.__name = name\n",
    "        self.__age = age\n",
    "\n",
    "    def get_name(self):\n",
    "        return self.__name\n",
    "\n",
    "    def set_name(self, name):\n",
    "        self.__name = name\n",
    "\n",
    "    def get_age(self):\n",
    "        return self.__age\n",
    "\n",
    "    def set_age(self, age):\n",
    "        self.__age = age\n",
    "\n",
    "\n",
    "class Student(Person):\n",
    "    def __init__(self, name, age, student_id):\n",
    "        super().__init__(name, age)\n",
    "        self.__student_id = student_id\n",
    "\n",
    "\n",
    "s1 = Student(\"John\", 20, 12345)\n",
    "print(s1.get_name())  # Output: John\n",
    "print(s1.get_age())  # Output: 20\n",
    "# print(s1.__student_id)  # Output: AttributeError: 'Student' object has no attribute '__student_id'"
   ]
  },
  {
   "cell_type": "markdown",
   "metadata": {},
   "source": [
    "### Assignment 8: Polymorphism with Inheritance\n",
    "\n",
    "Create a base class named `Animal` with a method `speak`. Create two derived classes `Dog` and `Cat` that override the `speak` method. Create a list of `Animal` objects and call the `speak` method on each object to demonstrate polymorphism."
   ]
  },
  {
   "cell_type": "code",
   "execution_count": 7,
   "metadata": {},
   "outputs": [
    {
     "name": "stdout",
     "output_type": "stream",
     "text": [
      "Woof\n",
      "Meow\n"
     ]
    }
   ],
   "source": [
    "class Animal:\n",
    "    def speak(self):\n",
    "        raise NotImplementedError(\"Subclasses must override the speak method\")\n",
    "    \n",
    "class Dog(Animal):\n",
    "    def speak(self):\n",
    "        return \"Woof\"\n",
    "\n",
    "\n",
    "class Cat(Animal):\n",
    "    def speak(self):\n",
    "        return \"Meow\"\n",
    "    \n",
    "animal = [Dog(), Cat()]\n",
    "for a in animal:\n",
    "    print(a.speak())"
   ]
  },
  {
   "cell_type": "markdown",
   "metadata": {},
   "source": [
    "### Assignment 9: Abstract Methods in Base Class\n",
    "\n",
    "Create an abstract base class named `Employee` with an abstract method `calculate_salary`. Create two derived classes `FullTimeEmployee` and `PartTimeEmployee` that implement the `calculate_salary` method. Create objects of the derived classes and call the `calculate_salary` method."
   ]
  },
  {
   "cell_type": "code",
   "execution_count": 11,
   "metadata": {},
   "outputs": [
    {
     "name": "stdout",
     "output_type": "stream",
     "text": [
      "Full-Time Employee Salary: 50000 per month\n",
      "Part-Time Employee Salary: 16000 based on 80 hours worked at 200 per hour\n"
     ]
    }
   ],
   "source": [
    "from abc import ABC, abstractmethod\n",
    "\n",
    "# Abstract base class\n",
    "class Employee(ABC):\n",
    "    @abstractmethod\n",
    "    def calculate_salary(self):\n",
    "        pass\n",
    "\n",
    "# Derived class for full-time employees\n",
    "class FullTimeEmployee(Employee):\n",
    "    def __init__(self, monthly_salary):\n",
    "        self.monthly_salary = monthly_salary\n",
    "\n",
    "    def calculate_salary(self):\n",
    "        return f\"Full-Time Employee Salary: {self.monthly_salary} per month\"\n",
    "\n",
    "# Derived class for part-time employees\n",
    "class PartTimeEmployee(Employee):\n",
    "    def __init__(self, hours_worked, hourly_rate):\n",
    "        self.hours_worked = hours_worked\n",
    "        self.hourly_rate = hourly_rate\n",
    "\n",
    "    def calculate_salary(self):\n",
    "        salary = self.hours_worked * self.hourly_rate\n",
    "        return f\"Part-Time Employee Salary: {salary} based on {self.hours_worked} hours worked at {self.hourly_rate} per hour\"\n",
    "\n",
    "# Create objects of derived classes\n",
    "full_time = FullTimeEmployee(50000)  # Example: Monthly salary is 50,000\n",
    "part_time = PartTimeEmployee(80, 200)  # Example: Worked 80 hours at a rate of 200 per hour\n",
    "\n",
    "# Call the calculate_salary method\n",
    "print(full_time.calculate_salary())\n",
    "print(part_time.calculate_salary())"
   ]
  },
  {
   "cell_type": "markdown",
   "metadata": {},
   "source": [
    "### Assignment 10: Encapsulation in Data Classes\n",
    "\n",
    "Create a data class named `Product` with private attributes `product_id`, `name`, and `price`. Add methods to get and set these attributes. Ensure that the price cannot be set to a negative value."
   ]
  },
  {
   "cell_type": "code",
   "execution_count": 13,
   "metadata": {},
   "outputs": [
    {
     "name": "stdout",
     "output_type": "stream",
     "text": [
      "P001 Laptop 1000\n",
      "Price cannot be negative!\n",
      "P001 Laptop 1500\n"
     ]
    }
   ],
   "source": [
    "class Product:\n",
    "    def __init__(self, product_id, name, price):\n",
    "        self.__product_id = product_id\n",
    "        self.__name = name\n",
    "        self.__price = price\n",
    "\n",
    "    def get_product_id(self):\n",
    "        return self.__product_id\n",
    "\n",
    "    def get_name(self):\n",
    "        return self.__name\n",
    "\n",
    "    def get_price(self):\n",
    "        return self.__price\n",
    "\n",
    "    def set_product_id(self, product_id):\n",
    "        self.__product_id = product_id\n",
    "\n",
    "    def set_name(self, name):\n",
    "        self.__name = name\n",
    "\n",
    "    def set_price(self, price):\n",
    "        if price < 0:\n",
    "            print(\"Price cannot be negative!\")\n",
    "        else:\n",
    "            self.__price = price\n",
    "\n",
    "# Test\n",
    "product = Product('P001', 'Laptop', 1000)\n",
    "print(product.get_product_id(), product.get_name(), product.get_price())\n",
    "product.set_price(-500)  # Price cannot be negative!\n",
    "product.set_price(1500)\n",
    "print(product.get_product_id(), product.get_name(), product.get_price())"
   ]
  },
  {
   "cell_type": "markdown",
   "metadata": {},
   "source": [
    "### Assignment 11: Polymorphism with Operator Overloading\n",
    "\n",
    "Create a class named `Vector` with attributes `x` and `y`. Overload the `+` operator to add two `Vector` objects. Create objects of the class and test the operator overloading."
   ]
  },
  {
   "cell_type": "code",
   "execution_count": 14,
   "metadata": {},
   "outputs": [
    {
     "name": "stdout",
     "output_type": "stream",
     "text": [
      "Vector(6, 8)\n"
     ]
    }
   ],
   "source": [
    "class Vector:\n",
    "    def __init__ (self, x, y):\n",
    "        self.x = x\n",
    "        self.y = y\n",
    "    \n",
    "    def __add__(self, other):\n",
    "        return Vector(self.x + other.x, self.y + other.y)\n",
    "    \n",
    "    def __str__(self):\n",
    "        return f\"Vector({self.x}, {self.y})\"\n",
    "    \n",
    "v1 = Vector(2, 3)\n",
    "v2 = Vector(4, 5)\n",
    "v3 = v1 + v2\n",
    "print(v3)  # Output: Vector(6, 8)"
   ]
  },
  {
   "cell_type": "markdown",
   "metadata": {},
   "source": [
    "### Assignment 12: Abstract Properties\n",
    "\n",
    "Create an abstract base class named `Appliance` with an abstract property `power`. Create two derived classes `WashingMachine` and `Refrigerator` that implement the `power` property. Create objects of the derived classes and access the `power` property."
   ]
  },
  {
   "cell_type": "code",
   "execution_count": 4,
   "metadata": {},
   "outputs": [
    {
     "name": "stdout",
     "output_type": "stream",
     "text": [
      "Power consumption of: 500 watts\n",
      "Power consumption of: 200 watts\n"
     ]
    }
   ],
   "source": [
    "from abc import ABC, abstractmethod\n",
    "\n",
    "# Base class\n",
    "class Appliance(ABC):\n",
    "    @property\n",
    "    @abstractmethod\n",
    "    def power(self):\n",
    "        pass\n",
    "\n",
    "class WashingMachine(Appliance):\n",
    "    @property\n",
    "    def power(self):\n",
    "        return 500\n",
    "\n",
    "class Refrigerator(Appliance):\n",
    "    @property\n",
    "    def power(self):\n",
    "        return 200\n",
    "\n",
    "# Create objects of the derived classes\n",
    "washing_machine = WashingMachine()\n",
    "refrigerator = Refrigerator()\n",
    "for appliance in [washing_machine, refrigerator]:\n",
    "    print(f\"Power consumption of: {appliance.power} watts\")"
   ]
  },
  {
   "cell_type": "markdown",
   "metadata": {},
   "source": [
    "### Assignment 13: Encapsulation in Class Hierarchies\n",
    "\n",
    "Create a base class named `Account` with private attributes `account_number` and `balance`. Add methods to get and set these attributes. Create a derived class named `SavingsAccount` that adds an attribute `interest_rate`. Create an object of the `SavingsAccount` class and test the encapsulation."
   ]
  },
  {
   "cell_type": "code",
   "execution_count": 6,
   "metadata": {},
   "outputs": [
    {
     "name": "stdout",
     "output_type": "stream",
     "text": [
      "12345 1000 0.05\n",
      "Balance cannot be negative!\n",
      "2000\n"
     ]
    }
   ],
   "source": [
    "class Account:\n",
    "    def __init__(self, account_number, balance=0):\n",
    "        self.__account_number = account_number\n",
    "        self.__balance = balance\n",
    "\n",
    "    def get_account_number(self):\n",
    "        return self.__account_number\n",
    "    \n",
    "    def set_account_number(self, account_number):\n",
    "        self.__account_number = account_number\n",
    "        \n",
    "    def get_balance(self):\n",
    "        return self.__balance\n",
    "    \n",
    "    def set_balance(self, balance):\n",
    "        if balance < 0:\n",
    "            print(\"Balance cannot be negative!\")\n",
    "        else:\n",
    "            self.__balance = balance\n",
    "\n",
    "class SavingAccount(Account):\n",
    "    def __init__(self, account_number, balance=0, interest_rate=0):\n",
    "        super().__init__(account_number, balance)\n",
    "        self.interest_rate = interest_rate\n",
    "\n",
    "\n",
    "# Test\n",
    "saving_account = SavingAccount(12345, 1000, 0.05)\n",
    "print(saving_account.get_account_number(), saving_account.get_balance(),saving_account.interest_rate)  # Output: 12345 1000\n",
    "saving_account.set_balance(-500)  # Balance cannot be negative!\n",
    "saving_account.set_balance(2000)\n",
    "print(saving_account.get_balance())  # Output: 2000"
   ]
  },
  {
   "cell_type": "markdown",
   "metadata": {},
   "source": [
    "### Assignment 14: Polymorphism with Multiple Inheritance\n",
    "\n",
    "Create a class named `Flyer` with a method `fly`. Create a class named `Swimmer` with a method `swim`. Create a class named `Superhero` that inherits from both `Flyer` and `Swimmer` and overrides both methods. Create an object of the `Superhero` class and call both methods."
   ]
  },
  {
   "cell_type": "code",
   "execution_count": 8,
   "metadata": {},
   "outputs": [
    {
     "name": "stdout",
     "output_type": "stream",
     "text": [
      "Superhero flying...\n",
      "Superhero swimming...\n"
     ]
    }
   ],
   "source": [
    "class Flyer:\n",
    "    def fly(self):\n",
    "        print(\"Flying\")\n",
    "\n",
    "class Swimmer:\n",
    "    def swim(self):\n",
    "        print(\"Swimming\")\n",
    "\n",
    "class Superhero(Flyer, Swimmer):\n",
    "    def fly(self):\n",
    "        print(\"Superhero flying...\")\n",
    "\n",
    "    def swim(self):\n",
    "        print(\"Superhero swimming...\")\n",
    "\n",
    "# Test\n",
    "superhero = Superhero()\n",
    "superhero.fly()  # Output: Superhero flying...\n",
    "superhero.swim()  # Output: Superhero swimming..."
   ]
  },
  {
   "cell_type": "markdown",
   "metadata": {},
   "source": [
    "### Assignment 15: Abstract Methods and Multiple Inheritance\n",
    "\n",
    "Create an abstract base class named `Worker` with an abstract method `work`. Create two derived classes `Engineer` and `Doctor` that implement the `work` method. Create another derived class `Scientist` that inherits from both `Engineer` and `Doctor`. Create an object of the `Scientist` class and call the `work` method."
   ]
  },
  {
   "cell_type": "code",
   "execution_count": 9,
   "metadata": {},
   "outputs": [
    {
     "name": "stdout",
     "output_type": "stream",
     "text": [
      "Engineering work\n",
      "Medical work\n",
      "Scientific work\n"
     ]
    }
   ],
   "source": [
    "from abc import ABC, abstractmethod\n",
    "\n",
    "# Base class\n",
    "class Worker(ABC):\n",
    "    @abstractmethod\n",
    "    def work(self):\n",
    "        pass\n",
    "\n",
    "# Derived class\n",
    "class Engineer(Worker):\n",
    "    def work(self):\n",
    "        print(\"Engineering work\")\n",
    "\n",
    "class Doctor(Worker):\n",
    "    def work(self):\n",
    "        print(\"Medical work\")\n",
    "\n",
    "class Scientist(Engineer, Doctor):\n",
    "    def work(self):\n",
    "        Engineer.work(self)\n",
    "        Doctor.work(self)\n",
    "        print(\"Scientific work\")\n",
    "\n",
    "# Test\n",
    "scientist = Scientist()\n",
    "scientist.work()\n"
   ]
  }
 ],
 "metadata": {
  "kernelspec": {
   "display_name": "Python 3",
   "language": "python",
   "name": "python3"
  },
  "language_info": {
   "codemirror_mode": {
    "name": "ipython",
    "version": 3
   },
   "file_extension": ".py",
   "mimetype": "text/x-python",
   "name": "python",
   "nbconvert_exporter": "python",
   "pygments_lexer": "ipython3",
   "version": "3.11.11"
  }
 },
 "nbformat": 4,
 "nbformat_minor": 2
}
