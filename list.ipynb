{
 "cells": [
  {
   "cell_type": "markdown",
   "metadata": {},
   "source": [
    "### Assignment 1: Creating and Accessing Lists\n",
    "\n",
    "Create a list of the first 20 positive integers. Print the list."
   ]
  },
  {
   "cell_type": "code",
   "execution_count": 2,
   "metadata": {},
   "outputs": [
    {
     "name": "stdout",
     "output_type": "stream",
     "text": [
      "[1, 2, 3, 4, 5, 6, 7, 8, 9, 10, 11, 12, 13, 14, 15, 16, 17, 18, 19, 20]\n"
     ]
    }
   ],
   "source": [
    "lst = list(range(1, 21))\n",
    "print(lst)"
   ]
  },
  {
   "cell_type": "markdown",
   "metadata": {},
   "source": [
    "### Assignment 2: Accessing List Elements\n",
    "\n",
    "Print the first, middle, and last elements of the list created in Assignment 1."
   ]
  },
  {
   "cell_type": "code",
   "execution_count": 3,
   "metadata": {},
   "outputs": [
    {
     "name": "stdout",
     "output_type": "stream",
     "text": [
      "First element 1\n",
      "Middle elementt 11\n",
      "Last element 20\n"
     ]
    }
   ],
   "source": [
    "print(f\"First element {lst[0]}\")\n",
    "print(f\"Middle elementt {lst[len(lst)//2]}\")\n",
    "print(f\"Last element {lst[-1]}\")"
   ]
  },
  {
   "cell_type": "markdown",
   "metadata": {},
   "source": [
    "### Assignment 3: List Slicing\n",
    "\n",
    "Print the first five elements, the last five elements, and the elements from index 5 to 15 of the list created in Assignment 1."
   ]
  },
  {
   "cell_type": "code",
   "execution_count": 4,
   "metadata": {},
   "outputs": [
    {
     "name": "stdout",
     "output_type": "stream",
     "text": [
      "First five elemets are [1, 2, 3, 4, 5]\n",
      "Last five elemets are [16, 17, 18, 19, 20]\n",
      "Elements from index 5 to 15 are [6, 7, 8, 9, 10, 11, 12, 13, 14, 15, 16]\n"
     ]
    }
   ],
   "source": [
    "print(f\"First five elemets are {lst[:5]}\")\n",
    "print(f\"Last five elemets are {lst[-5:]}\")\n",
    "print(f\"Elements from index 5 to 15 are {lst[5:16]}\")"
   ]
  },
  {
   "cell_type": "markdown",
   "metadata": {},
   "source": [
    "### Assignment 4: List Comprehensions\n",
    "\n",
    "Create a new list containing the squares of the first 10 positive integers using a list comprehension. Print the new list."
   ]
  },
  {
   "cell_type": "code",
   "execution_count": 5,
   "metadata": {},
   "outputs": [
    {
     "name": "stdout",
     "output_type": "stream",
     "text": [
      "[1, 4, 9, 16, 25, 36, 49, 64, 81, 100]\n"
     ]
    }
   ],
   "source": [
    "num_sqrs = [num**2 for num in range(1, 11)]\n",
    "print(num_sqrs)"
   ]
  },
  {
   "cell_type": "markdown",
   "metadata": {},
   "source": [
    "### Assignment 5: Filtering Lists\n",
    "\n",
    "Create a new list containing only the even numbers from the list created in Assignment 1 using a list comprehension. Print the new list."
   ]
  },
  {
   "cell_type": "code",
   "execution_count": 8,
   "metadata": {},
   "outputs": [
    {
     "name": "stdout",
     "output_type": "stream",
     "text": [
      "[2, 4, 6, 8, 10, 12, 14, 16, 18, 20]\n"
     ]
    }
   ],
   "source": [
    "even_num = [num for num in lst if num % 2 == 0]\n",
    "print(even_num)"
   ]
  },
  {
   "cell_type": "markdown",
   "metadata": {},
   "source": [
    "### Assignment 6: List Methods\n",
    "\n",
    "Create a list of random numbers and sort it in ascending and descending order. Remove the duplicates from the list and print the modified list."
   ]
  },
  {
   "cell_type": "code",
   "execution_count": 13,
   "metadata": {},
   "outputs": [
    {
     "name": "stdout",
     "output_type": "stream",
     "text": [
      "[4, 44, 0, 1, 11, 11, 23, 41, 24, 19, 5, 8, 7, 35, 34, 12, 26, 48, 41, 5]\n"
     ]
    }
   ],
   "source": [
    "import random\n",
    "\n",
    "random_num = [random.randint(0, 50) for i in range(20)]\n",
    "print(random_num)"
   ]
  },
  {
   "cell_type": "code",
   "execution_count": 14,
   "metadata": {},
   "outputs": [
    {
     "name": "stdout",
     "output_type": "stream",
     "text": [
      "Sorted in ascending order : \n",
      " [0, 1, 4, 5, 5, 7, 8, 11, 11, 12, 19, 23, 24, 26, 34, 35, 41, 41, 44, 48]\n"
     ]
    }
   ],
   "source": [
    "sorted_nums = sorted(random_num)\n",
    "print(f\"Sorted in ascending order : \\n {sorted_nums}\")"
   ]
  },
  {
   "cell_type": "code",
   "execution_count": 15,
   "metadata": {},
   "outputs": [
    {
     "name": "stdout",
     "output_type": "stream",
     "text": [
      "Sorted in descending order: \n",
      " [48, 44, 41, 41, 35, 34, 26, 24, 23, 19, 12, 11, 11, 8, 7, 5, 5, 4, 1, 0]\n"
     ]
    }
   ],
   "source": [
    "sort_descending = sorted(random_num, reverse=True)\n",
    "print(f\"Sorted in descending order: \\n {sort_descending}\")"
   ]
  },
  {
   "cell_type": "code",
   "execution_count": 18,
   "metadata": {},
   "outputs": [
    {
     "name": "stdout",
     "output_type": "stream",
     "text": [
      "[ 0  1  4  5  7  8 11 12 19 23 24 26 34 35 41 44 48]\n"
     ]
    },
    {
     "name": "stderr",
     "output_type": "stream",
     "text": [
      "C:\\Users\\SAHIL BARKE\\AppData\\Local\\Temp\\ipykernel_16900\\3185469998.py:2: FutureWarning: unique with argument that is not not a Series, Index, ExtensionArray, or np.ndarray is deprecated and will raise in a future version.\n",
      "  unique_nums = pd.unique(sorted_nums)\n"
     ]
    }
   ],
   "source": [
    "import pandas as pd\n",
    "\n",
    "unique_nums = pd.unique(sorted_nums)\n",
    "print(unique_nums)"
   ]
  },
  {
   "cell_type": "markdown",
   "metadata": {},
   "source": [
    "### Assignment 7: Nested Lists\n",
    "\n",
    "Create a nested list representing a 3x3 matrix and print the matrix. Access and print the element at the second row and third column."
   ]
  },
  {
   "cell_type": "code",
   "execution_count": 25,
   "metadata": {},
   "outputs": [
    {
     "name": "stdout",
     "output_type": "stream",
     "text": [
      "[[1, 2, 3], [4, 5, 6], [7, 8, 9]]\n"
     ]
    }
   ],
   "source": [
    "nested_list = [\n",
    "    [1, 2, 3],\n",
    "    [\n",
    "        4,\n",
    "        5,\n",
    "        6,\n",
    "    ],\n",
    "    [7, 8, 9],\n",
    "]\n",
    "print(nested_list)"
   ]
  },
  {
   "cell_type": "code",
   "execution_count": 26,
   "metadata": {},
   "outputs": [
    {
     "name": "stdout",
     "output_type": "stream",
     "text": [
      "6\n"
     ]
    }
   ],
   "source": [
    "# Access and print the element at the second row and third column.\n",
    "print(nested_list[1][2])"
   ]
  },
  {
   "cell_type": "markdown",
   "metadata": {},
   "source": [
    "### Assignment 8: List of Dictionaries\n",
    "\n",
    "Create a list of dictionaries where each dictionary represents a student with keys 'name' and 'score'. Sort the list of dictionaries by the 'score' in descending order and print the sorted list."
   ]
  },
  {
   "cell_type": "code",
   "execution_count": 28,
   "metadata": {},
   "outputs": [
    {
     "name": "stdout",
     "output_type": "stream",
     "text": [
      "Sorted students by score (descending):\n",
      "{'name': 'Lisa', 'score': 98}\n",
      "{'name': 'Maggie', 'score': 90}\n",
      "{'name': 'Bart', 'score': 85}\n",
      "{'name': 'Arthuro', 'score': 60}\n"
     ]
    }
   ],
   "source": [
    "students = [\n",
    "    {\"name\": \"Arthuro\", \"score\": 60},\n",
    "    {\"name\": \"Bart\", \"score\": 85},\n",
    "    {\"name\": \"Lisa\", \"score\": 98},\n",
    "    {\"name\": \"Maggie\", \"score\": 90},\n",
    "]\n",
    "\n",
    "\n",
    "# Sort the list of dictionaries by 'score' in descending order\n",
    "sorted_students = sorted(students, key=lambda x: x[\"score\"], reverse=True)\n",
    "\n",
    "# Print the sorted list\n",
    "print(\"Sorted students by score (descending):\")\n",
    "for student in sorted_students:\n",
    "    print(student)"
   ]
  },
  {
   "cell_type": "markdown",
   "metadata": {},
   "source": [
    "\n",
    "### Assignment 9: Matrix Transposition\n",
    "\n",
    "Write a function that takes a 3x3 matrix (nested list) as input and returns its transpose. Print the original and transposed matrices."
   ]
  },
  {
   "cell_type": "code",
   "execution_count": 29,
   "metadata": {},
   "outputs": [
    {
     "name": "stdout",
     "output_type": "stream",
     "text": [
      "Original matrix:\n",
      "[1, 2, 3]\n",
      "[4, 5, 6]\n",
      "[7, 8, 9]\n",
      "Transposed matrix:\n",
      "[1, 4, 7]\n",
      "[2, 5, 8]\n",
      "[3, 6, 9]\n"
     ]
    }
   ],
   "source": [
    "def transpose_matrix(matrix):\n",
    "    # Transpose the matrix\n",
    "    transposed = [[matrix[j][i] for j in range(3)] for i in range(3)]\n",
    "    return transposed\n",
    "\n",
    "\n",
    "# Example 3x3 matrix\n",
    "matrix = [[1, 2, 3], [4, 5, 6], [7, 8, 9]]\n",
    "\n",
    "# Get the transposed matrix\n",
    "transposed_matrix = transpose_matrix(matrix)\n",
    "\n",
    "# Print the original matrix\n",
    "print(\"Original matrix:\")\n",
    "for row in matrix:\n",
    "    print(row)\n",
    "\n",
    "# Print the transposed matrix\n",
    "print(\"Transposed matrix:\")\n",
    "for row in transposed_matrix:\n",
    "    print(row)"
   ]
  },
  {
   "cell_type": "markdown",
   "metadata": {},
   "source": [
    "### Assignment 10: Flattening a Nested List\n",
    "\n",
    "Write a function that takes a nested list and flattens it into a single list. Print the original and flattened lists."
   ]
  },
  {
   "cell_type": "code",
   "execution_count": 4,
   "metadata": {},
   "outputs": [
    {
     "name": "stdout",
     "output_type": "stream",
     "text": [
      "Original nested list: \n",
      " [[1, 2, 3, 4], 33, 5, [3, 2, 9], 76, [[21, 32, 44], 65, 44]]\n",
      "Flattend list: \n",
      " [1, 2, 3, 4, 33, 5, 3, 2, 9, 76, 21, 32, 44, 65, 44]\n"
     ]
    }
   ],
   "source": [
    "def flatten_list(nestesd_lst):\n",
    "    \"\"\"\n",
    "    Flattens a nested list into a single list.\n",
    "\n",
    "    Args:\n",
    "        nested_lst (list): A list that may contain nested lists.\n",
    "\n",
    "    Returns:\n",
    "        list: A flattened version of the nested list.\n",
    "    \"\"\"\n",
    "    flattend_lst = []\n",
    "    for item in nestesd_lst:\n",
    "        if isinstance(item, list):\n",
    "            flattend_lst.extend(flatten_list(item))\n",
    "        else:\n",
    "            flattend_lst.append(item)\n",
    "\n",
    "    return flattend_lst\n",
    "\n",
    "\n",
    "lst = [[1, 2, 3, 4], 33, 5, [3, 2, 9], 76,[[21,32,44],65,44]]\n",
    "flatten_lst = flatten_list(lst)\n",
    "print(f\"Original nested list: \\n {lst}\")\n",
    "print(f\"Flattend list: \\n {flatten_lst}\")"
   ]
  },
  {
   "cell_type": "markdown",
   "metadata": {},
   "source": [
    "### Assignment 11: List Manipulation\n",
    "\n",
    "Create a list of the first 10 positive integers. Remove the elements at indices 2, 4, and 6, and insert the element '99' at index 5. Print the modified list."
   ]
  },
  {
   "cell_type": "code",
   "execution_count": 11,
   "metadata": {},
   "outputs": [
    {
     "name": "stdout",
     "output_type": "stream",
     "text": [
      "Original list: [1, 2, 3, 4, 5, 6, 7, 8, 9, 10]\n",
      "Modified list: [1, 2, 4, 6, 8, 99, 9, 10]\n"
     ]
    }
   ],
   "source": [
    "lst = list(range(1, 11))\n",
    "print(f\"Original list: {lst}\")\n",
    "del lst[6]\n",
    "del lst[4]\n",
    "del lst[2]\n",
    "lst.insert(5, 99)\n",
    "print(f\"Modified list: {lst}\")"
   ]
  },
  {
   "cell_type": "markdown",
   "metadata": {},
   "source": [
    "### Assignment 12: List Zipping\n",
    "\n",
    "Create two lists of the same length. Use the `zip` function to combine these lists into a list of tuples and print the result."
   ]
  },
  {
   "cell_type": "code",
   "execution_count": 12,
   "metadata": {},
   "outputs": [
    {
     "name": "stdout",
     "output_type": "stream",
     "text": [
      "[(1, 'a'), (2, 'b'), (3, 'c'), (4, 'd'), (5, 'e')]\n"
     ]
    }
   ],
   "source": [
    "list1 = [1, 2, 3, 4, 5]\n",
    "list2 = ['a', 'b', 'c', 'd', 'e']\n",
    "zipped = list(zip(list1, list2))\n",
    "print(zipped)"
   ]
  },
  {
   "cell_type": "markdown",
   "metadata": {},
   "source": [
    "### Assignment 13: List Reversal\n",
    "\n",
    "Write a function that takes a list and returns a new list with the elements in reverse order. Print the original and reversed lists."
   ]
  },
  {
   "cell_type": "code",
   "execution_count": 19,
   "metadata": {},
   "outputs": [
    {
     "name": "stdout",
     "output_type": "stream",
     "text": [
      "Original list: [1, 2, 3, 4, 5]\n",
      "Reversed list: [5, 4, 3, 2, 1]\n"
     ]
    }
   ],
   "source": [
    "def reverse_lst(lst):\n",
    "    return lst[::-1]\n",
    "\n",
    "org_lst = [1, 2, 3, 4, 5]\n",
    "print(f\"Original list: {org_lst}\")\n",
    "print(f\"Reversed list: {reverse_lst(org_lst)}\")"
   ]
  },
  {
   "cell_type": "markdown",
   "metadata": {},
   "source": [
    "### Assignment 14: List Rotation\n",
    "\n",
    "Write a function that rotates a list by n positions. Print the original and rotated lists."
   ]
  },
  {
   "cell_type": "code",
   "execution_count": 27,
   "metadata": {},
   "outputs": [
    {
     "name": "stdout",
     "output_type": "stream",
     "text": [
      "Original list: [1, 2, 3, 4, 5]\n",
      "Rotated list: [4, 5, 1, 2, 3]\n"
     ]
    }
   ],
   "source": [
    "def rotate_list(lst, k):\n",
    "    # Normalize n to ensure it's within the bounds of the list length\n",
    "    k = k % len(lst)  # Handles cases where n > len(lst)\n",
    "    return lst[k:] + lst[:k]\n",
    "\n",
    "\n",
    "org_lst = [1, 2, 3, 4, 5]\n",
    "print(f\"Original list: {org_lst}\")\n",
    "print(f\"Rotated list: {rotate_list(org_lst, 3)}\")"
   ]
  },
  {
   "cell_type": "markdown",
   "metadata": {},
   "source": [
    "### Assignment 15: List Intersection\n",
    "\n",
    "Write a function that takes two lists and returns a new list containing only the elements that are present in both lists. Print the intersected list."
   ]
  },
  {
   "cell_type": "code",
   "execution_count": 29,
   "metadata": {},
   "outputs": [
    {
     "name": "stdout",
     "output_type": "stream",
     "text": [
      "List 1: [1, 2, 3, 4, 5]\n",
      "List 2: [3, 4, 5, 6, 7]\n",
      "Intersection: [3, 4, 5]\n"
     ]
    }
   ],
   "source": [
    "def intersect_list(lst1, lst2)->list:\n",
    "    return list(set(lst1) & set(lst2))\n",
    "    # other method\n",
    "    # return [x for x in lst1 if x in lst2]\n",
    "    \n",
    "\n",
    "list1 = [1, 2, 3, 4, 5]\n",
    "list2 = [3, 4, 5, 6, 7]\n",
    "print(f\"List 1: {list1}\")\n",
    "print(f\"List 2: {list2}\")\n",
    "print(f\"Intersection: {intersect_list(list1, list2)}\")"
   ]
  }
 ],
 "metadata": {
  "kernelspec": {
   "display_name": "Python 3",
   "language": "python",
   "name": "python3"
  },
  "language_info": {
   "codemirror_mode": {
    "name": "ipython",
    "version": 3
   },
   "file_extension": ".py",
   "mimetype": "text/x-python",
   "name": "python",
   "nbconvert_exporter": "python",
   "pygments_lexer": "ipython3",
   "version": "3.11.11"
  }
 },
 "nbformat": 4,
 "nbformat_minor": 2
}
