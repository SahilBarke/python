{
 "cells": [
  {
   "cell_type": "markdown",
   "id": "79e44b0a",
   "metadata": {},
   "source": [
    "# Module: Logging Assignments\n",
    "## Lesson: Logging"
   ]
  },
  {
   "cell_type": "code",
   "execution_count": 1,
   "id": "d2d79293",
   "metadata": {},
   "outputs": [],
   "source": [
    "import logging"
   ]
  },
  {
   "cell_type": "markdown",
   "id": "2934913e",
   "metadata": {},
   "source": [
    "### Assignment 1: Basic Logging\n"
   ]
  },
  {
   "cell_type": "code",
   "execution_count": null,
   "id": "22817e26",
   "metadata": {},
   "outputs": [],
   "source": [
    "#1. Write a Python function to create a basic logger that logs messages to a file named `app.log`.\n",
    "# 2. Modify the function to log messages of levels: DEBUG, INFO, WARNING, ERROR, and CRITICAL.\n",
    "\n",
    "\n",
    "def basic_logger():\n",
    "    logging.basicConfig(filename='app.log', level=logging.DEBUG)\n",
    "    logging.debug('This is a debug message')\n",
    "    logging.info('This is an info message')\n",
    "    logging.warning('This is a warning message')\n",
    "    logging.error('This is an error message')\n",
    "    logging.critical('This is a critical message')\n",
    "\n",
    "# Test the function\n",
    "basic_logger()"
   ]
  },
  {
   "cell_type": "markdown",
   "id": "ef295a23",
   "metadata": {},
   "source": [
    "### Assignment 2: Logging with Different Handlers\n",
    "\n",
    "1. Write a Python function to create a logger that logs messages to both a file named `app.log` and the console.\n",
    "2. Modify the function to use different logging levels for the file and console handlers."
   ]
  },
  {
   "cell_type": "code",
   "execution_count": 2,
   "id": "69c5f776",
   "metadata": {},
   "outputs": [
    {
     "name": "stderr",
     "output_type": "stream",
     "text": [
      "2025-05-20 11:16:48,280 - my_logger - DEBUG - This is a debug message\n",
      "2025-05-20 11:16:48,281 - my_logger - INFO - This is an info message\n",
      "2025-05-20 11:16:48,283 - my_logger - WARNING - This is a warning message\n",
      "2025-05-20 11:16:48,284 - my_logger - ERROR - This is an error message\n",
      "2025-05-20 11:16:48,284 - my_logger - CRITICAL - This is a critical message\n"
     ]
    }
   ],
   "source": [
    "def logger_with_handlers():\n",
    "    logger = logging.getLogger('my_logger')\n",
    "    logger.setLevel(logging.DEBUG)\n",
    "    \n",
    "    file_handler = logging.FileHandler('app.log')\n",
    "    console_handler = logging.StreamHandler()\n",
    "    \n",
    "    file_handler.setLevel(logging.DEBUG)\n",
    "    console_handler.setLevel(logging.DEBUG)\n",
    "    \n",
    "    formatter = logging.Formatter('%(asctime)s - %(name)s - %(levelname)s - %(message)s')\n",
    "    file_handler.setFormatter(formatter)\n",
    "    console_handler.setFormatter(formatter)\n",
    "    \n",
    "    logger.addHandler(file_handler)\n",
    "    logger.addHandler(console_handler)\n",
    "    \n",
    "    logger.debug('This is a debug message')\n",
    "    logger.info('This is an info message')\n",
    "    logger.warning('This is a warning message')\n",
    "    logger.error('This is an error message')\n",
    "    logger.critical('This is a critical message')\n",
    "\n",
    "# Test the function\n",
    "logger_with_handlers()"
   ]
  },
  {
   "cell_type": "markdown",
   "id": "4f7b2a26",
   "metadata": {},
   "source": [
    "### Assignment 3: Formatting Log Messages\n",
    "\n",
    "1. Write a Python function to create a logger with a custom log message format that includes the timestamp, logging level, and message.\n",
    "2. Modify the function to use different formats for the file and console handlers."
   ]
  },
  {
   "cell_type": "code",
   "execution_count": null,
   "id": "68bfc739",
   "metadata": {},
   "outputs": [],
   "source": [
    "# 1\n",
    "\n",
    "def logger_with_custom_format():\n",
    "    logger = logging.getLogger('custom_logger')\n",
    "    logger.setLevel(logging.DEBUG)\n",
    "    \n",
    "    file_handler = logging.FileHandler('custom_app.log')\n",
    "    console_handler = logging.StreamHandler()\n",
    "    \n",
    "    file_handler.setLevel(logging.DEBUG)\n",
    "    console_handler.setLevel(logging.DEBUG)\n",
    "    \n",
    "    formatter = logging.Formatter('%(asctime)s - %(levelname)s - %(message)s')\n",
    "    file_handler.setFormatter(formatter)\n",
    "    console_handler.setFormatter(formatter)\n",
    "    \n",
    "    logger.addHandler(file_handler)\n",
    "    logger.addHandler(console_handler)\n",
    "    \n",
    "    logger.debug('This is a debug message')\n",
    "    logger.info('This is an info message')\n",
    "    logger.warning('This is a warning message')\n",
    "    logger.error('This is an error message')\n",
    "    logger.critical('This is a critical message')\n",
    "    \n",
    "# Test the function\n",
    "logger_with_custom_format()"
   ]
  },
  {
   "cell_type": "code",
   "execution_count": null,
   "id": "8efc8431",
   "metadata": {},
   "outputs": [
    {
     "name": "stderr",
     "output_type": "stream",
     "text": [
      "2025-05-20 11:28:18,698 - DEBUG - This is a debug message\n",
      "2025-05-20 11:28:18,699 - INFO - This is an info message\n",
      "2025-05-20 11:28:18,700 - WARNING - This is a warning message\n",
      "2025-05-20 11:28:18,701 - ERROR - This is an error message\n",
      "2025-05-20 11:28:18,703 - CRITICAL - This is a critical message\n"
     ]
    }
   ],
   "source": [
    "# 2\n",
    "\n",
    "def multi_format_logging():\n",
    "    logger = logging.getLogger('multi_format_logger')\n",
    "    logger.setLevel(logging.DEBUG)\n",
    "    \n",
    "    file_handler = logging.FileHandler('multi_format_app.log')\n",
    "    console_handler = logging.StreamHandler()\n",
    "    \n",
    "    file_formatter = logging.Formatter('%(asctime)s - %(name)s - %(levelname)s - %(message)s')\n",
    "    console_formatter = logging.Formatter('%(asctime)s - %(levelname)s - %(message)s')\n",
    "    file_handler.setFormatter(file_formatter)\n",
    "    console_handler.setFormatter(console_formatter)\n",
    "    \n",
    "    logger.addHandler(file_handler)\n",
    "    logger.addHandler(console_handler)\n",
    "    \n",
    "    logger.debug('This is a debug message')\n",
    "    logger.info('This is an info message')\n",
    "    logger.warning('This is a warning message')\n",
    "    logger.error('This is an error message')\n",
    "    logger.critical('This is a critical message')\n",
    "    \n",
    "# Test the function\n",
    "multi_format_logging()"
   ]
  },
  {
   "cell_type": "markdown",
   "id": "acaf0180",
   "metadata": {},
   "source": [
    "### Assignment 4: Rotating Log Files\n",
    "\n",
    "1. Write a Python function to create a logger that uses a rotating file handler, which creates a new log file when the current log file reaches a certain size.\n",
    "2. Modify the function to keep a specified number of backup log files."
   ]
  },
  {
   "cell_type": "code",
   "execution_count": 4,
   "id": "119e9d22",
   "metadata": {},
   "outputs": [
    {
     "name": "stderr",
     "output_type": "stream",
     "text": [
      "2025-05-20 11:55:10,116 - rotating_file_logger - DEBUG - This is a debug message\n",
      "2025-05-20 11:55:10,118 - rotating_file_logger - INFO - This is an info message\n",
      "2025-05-20 11:55:10,120 - rotating_file_logger - WARNING - This is a warning message\n",
      "2025-05-20 11:55:10,123 - rotating_file_logger - ERROR - This is an error message\n",
      "2025-05-20 11:55:10,125 - rotating_file_logger - CRITICAL - This is a critical message\n"
     ]
    }
   ],
   "source": [
    "def rotating_file_logging():\n",
    "    logger = logging.getLogger('rotating_file_logger')\n",
    "    logger.setLevel(logging.DEBUG)\n",
    "    \n",
    "    file_handler = logging.handlers.RotatingFileHandler('rotating_app.log', maxBytes=200, backupCount=3)\n",
    "    console_handler = logging.StreamHandler()\n",
    "    \n",
    "    file_handler.setLevel(logging.DEBUG)\n",
    "    console_handler.setLevel(logging.DEBUG)\n",
    "    \n",
    "    formatter = logging.Formatter('%(asctime)s - %(name)s - %(levelname)s - %(message)s')\n",
    "    file_handler.setFormatter(formatter)\n",
    "    console_handler.setFormatter(formatter)\n",
    "    \n",
    "    logger.addHandler(file_handler)\n",
    "    logger.addHandler(console_handler)\n",
    "    \n",
    "    logger.debug('This is a debug message')\n",
    "    logger.info('This is an info message')\n",
    "    logger.warning('This is a warning message')\n",
    "    logger.error('This is an error message')\n",
    "    logger.critical('This is a critical message')\n",
    "\n",
    "#test the function\n",
    "rotating_file_logging()"
   ]
  },
  {
   "cell_type": "code",
   "execution_count": 3,
   "id": "c1d8a636",
   "metadata": {},
   "outputs": [],
   "source": [
    "from logging.handlers import RotatingFileHandler\n",
    "\n",
    "def logger_with_rotating_file_handler():\n",
    "    logger = logging.getLogger('rotating_logger')\n",
    "    logger.setLevel(logging.DEBUG)\n",
    "    \n",
    "    rotating_handler = RotatingFileHandler('rotating_app.log', maxBytes=2000, backupCount=5)\n",
    "    formatter = logging.Formatter('%(asctime)s - %(name)s - %(levelname)s - %(message)s')\n",
    "    rotating_handler.setFormatter(formatter)\n",
    "    \n",
    "    logger.addHandler(rotating_handler)\n",
    "    \n",
    "    for i in range(100):\n",
    "        logger.debug('This is debug message number {}'.format(i))\n",
    "\n",
    "# Test the function\n",
    "logger_with_rotating_file_handler()"
   ]
  },
  {
   "cell_type": "markdown",
   "id": "a06572fa",
   "metadata": {},
   "source": [
    "### Assignment 5: Logging Exceptions\n",
    "\n",
    "1. Write a Python function that logs an exception stack trace to a log file when an exception occurs.\n",
    "2. Modify the function to log the stack trace at the ERROR level."
   ]
  },
  {
   "cell_type": "code",
   "execution_count": null,
   "id": "1d6627ce",
   "metadata": {},
   "outputs": [
    {
     "name": "stderr",
     "output_type": "stream",
     "text": [
      "2025-05-20 20:23:20,893 - exception_logger - ERROR - An exception occurred\n",
      "Traceback (most recent call last):\n",
      "  File \"C:\\Users\\SAHIL BARKE\\AppData\\Local\\Temp\\ipykernel_19840\\307899657.py\", line 14, in exception_logging\n",
      "    1 / 0\n",
      "    ~~^~~\n",
      "ZeroDivisionError: division by zero\n"
     ]
    }
   ],
   "source": [
    "def exception_logging():\n",
    "    logger = logging.getLogger('exception_logger')\n",
    "    logger.setLevel(logging.ERROR)\n",
    "    \n",
    "    file_handler = logging.FileHandler('exception_app.log')\n",
    "    console_handler = logging.StreamHandler()\n",
    "    \n",
    "    file_handler.setLevel(logging.ERROR)\n",
    "    console_handler.setLevel(logging.ERROR)\n",
    "    \n",
    "    formatter = logging.Formatter('%(asctime)s - %(name)s - %(levelname)s - %(message)s')\n",
    "    file_handler.setFormatter(formatter)\n",
    "    console_handler.setFormatter(formatter)\n",
    "    \n",
    "    logger.addHandler(file_handler)\n",
    "    logger.addHandler(console_handler)\n",
    "    \n",
    "    try:\n",
    "        1 / 0\n",
    "    except ZeroDivisionError as e:\n",
    "        logger.error('An exception occurred', exc_info=True)\n",
    "\n",
    "# Test the function\n",
    "exception_logging()"
   ]
  },
  {
   "cell_type": "markdown",
   "id": "71212b3f",
   "metadata": {},
   "source": [
    "### Assignment 6: Contextual Logging\n",
    "\n",
    "1. Write a Python function to create a logger that includes contextual information (e.g., function name, line number) in the log messages.\n",
    "2. Modify the function to include additional contextual information (e.g., user ID, session ID)."
   ]
  },
  {
   "cell_type": "code",
   "execution_count": 4,
   "id": "93100677",
   "metadata": {},
   "outputs": [],
   "source": [
    "def logger_with_contextual_info(user_id, session_id):\n",
    "    logger = logging.getLogger('contextual_logger')\n",
    "    logger.setLevel(logging.DEBUG)\n",
    "    \n",
    "    file_handler = logging.FileHandler('contextual_app.log')    \n",
    "    file_handler.setLevel(logging.DEBUG)\n",
    "    \n",
    "    formatter = logging.Formatter('%(asctime)s - %(name)s - %(levelname)s - %(message)s - %(funcName)s - %(lineno)d - UserID: %(user_id)s - SessionID: %(session_id)s')\n",
    "    file_handler.setFormatter(formatter)\n",
    "    \n",
    "    logger.addHandler(file_handler)\n",
    "    \n",
    "    extra = {'user_id': user_id, 'session_id': session_id} \n",
    "    \n",
    "    def test_function():\n",
    "        logger.debug('This is a debug message', extra=extra)\n",
    "        logger.info('This is an info message', extra=extra)\n",
    "        logger.warning('This is a warning message', extra=extra)\n",
    "        logger.error('This is an error message', extra=extra)\n",
    "        logger.critical('This is a critical message', extra=extra)\n",
    "    \n",
    "    test_function()\n",
    "\n",
    "# Test the function\n",
    "logger_with_contextual_info('user123', 'session456')"
   ]
  },
  {
   "cell_type": "markdown",
   "id": "595ff3f8",
   "metadata": {},
   "source": [
    "### Assignment 7: Configuring Logging with a Dictionary\n",
    "\n",
    "1. Write a Python function to configure logging using a dictionary. The configuration should include handlers for both file and console logging.\n",
    "2. Modify the dictionary to include different logging levels and formats for each handler."
   ]
  },
  {
   "cell_type": "code",
   "execution_count": 5,
   "id": "247ef003",
   "metadata": {},
   "outputs": [
    {
     "name": "stderr",
     "output_type": "stream",
     "text": [
      "2025-05-20 20:35:54,341 - root - DEBUG - This is a debug message\n",
      "2025-05-20 20:35:54,342 - root - INFO - This is an info message\n",
      "2025-05-20 20:35:54,345 - root - WARNING - This is a warning message\n",
      "2025-05-20 20:35:54,347 - root - ERROR - This is an error message\n",
      "2025-05-20 20:35:54,347 - root - CRITICAL - This is a critical message\n"
     ]
    }
   ],
   "source": [
    "import logging.config\n",
    "\n",
    "def configure_logging_with_dict():\n",
    "    log_config = {\n",
    "        'version': 1,\n",
    "        'formatters': {\n",
    "            'default': {\n",
    "                'format': '%(asctime)s - %(name)s - %(levelname)s - %(message)s'\n",
    "            },\n",
    "            'detailed': {\n",
    "                'format': '%(asctime)s - %(name)s - %(levelname)s - %(message)s - %(funcName)s - %(lineno)d'\n",
    "            }\n",
    "        },\n",
    "        'handlers': {\n",
    "            'file': {\n",
    "                'class': 'logging.FileHandler',\n",
    "                'filename': 'dict_config_app.log',\n",
    "                'formatter': 'detailed',\n",
    "                'level': 'DEBUG'\n",
    "            },\n",
    "            'console': {\n",
    "                'class': 'logging.StreamHandler',\n",
    "                'formatter': 'default',\n",
    "                'level': 'DEBUG'\n",
    "            }\n",
    "        },\n",
    "        'root': {\n",
    "            'handlers': ['file', 'console'],\n",
    "            'level': 'DEBUG'\n",
    "        }\n",
    "    }\n",
    "    logging.config.dictConfig(log_config)\n",
    "    logger = logging.getLogger('')\n",
    "    logger.debug('This is a debug message')\n",
    "    logger.info('This is an info message')\n",
    "    logger.warning('This is a warning message')\n",
    "    logger.error('This is an error message')\n",
    "    logger.critical('This is a critical message')\n",
    "\n",
    "# Test the function\n",
    "configure_logging_with_dict()"
   ]
  },
  {
   "cell_type": "markdown",
   "id": "988337ff",
   "metadata": {},
   "source": [
    "### Assignment 8: Logging in a Multi-Module Application\n",
    "\n",
    "1. Write a Python script that sets up logging for a multi-module application. Each module should have its own logger.\n",
    "2. Modify the script to propagate log messages from each module's logger to a root logger that handles logging to a file."
   ]
  },
  {
   "cell_type": "markdown",
   "id": "ee280e8f",
   "metadata": {},
   "source": [
    "## File: `main.py`"
   ]
  },
  {
   "cell_type": "markdown",
   "id": "50bfa52a",
   "metadata": {},
   "source": [
    "### Assignment 9: Logging Performance\n",
    "\n",
    "1. Write a Python script to benchmark the performance of logging with different handlers (e.g., file handler, console handler, rotating file handler).\n",
    "2. Modify the script to compare the performance of logging with and without message formatting."
   ]
  },
  {
   "cell_type": "markdown",
   "id": "2c88fe61",
   "metadata": {},
   "source": [
    "## File: `assignment9.py`"
   ]
  },
  {
   "cell_type": "markdown",
   "id": "3664aedd",
   "metadata": {},
   "source": [
    "### Assignment 10: Advanced Logging Configuration\n",
    "\n",
    "1. Write a Python function to configure logging using an external configuration file (e.g., `logging.conf`). The configuration should include handlers for file and console logging.\n",
    "2. Modify the configuration file to use different logging levels and formats for each handler."
   ]
  },
  {
   "cell_type": "markdown",
   "id": "a9edea30",
   "metadata": {},
   "source": [
    "## File: `assignment10.py`"
   ]
  }
 ],
 "metadata": {
  "kernelspec": {
   "display_name": "env",
   "language": "python",
   "name": "python3"
  },
  "language_info": {
   "codemirror_mode": {
    "name": "ipython",
    "version": 3
   },
   "file_extension": ".py",
   "mimetype": "text/x-python",
   "name": "python",
   "nbconvert_exporter": "python",
   "pygments_lexer": "ipython3",
   "version": "3.11.11"
  }
 },
 "nbformat": 4,
 "nbformat_minor": 5
}
